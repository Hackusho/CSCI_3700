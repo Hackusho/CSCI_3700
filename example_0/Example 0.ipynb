{
 "cells": [
  {
   "cell_type": "markdown",
   "metadata": {},
   "source": [
    "# How to interact with your DB using Python\n",
    "\n",
    "First you need to prepare your username and password"
   ]
  },
  {
   "cell_type": "code",
   "execution_count": 1,
   "metadata": {},
   "outputs": [],
   "source": [
    "username='raywu1990'\n",
    "password='test'\n",
    "host='127.0.0.1'\n",
    "port='5432'\n",
    "database='dvdrental'"
   ]
  },
  {
   "cell_type": "markdown",
   "metadata": {},
   "source": [
    "We will use psycopg2 library to build the connection with your DB"
   ]
  },
  {
   "cell_type": "code",
   "execution_count": 2,
   "metadata": {},
   "outputs": [],
   "source": [
    "import psycopg2\n",
    "from psycopg2 import Error"
   ]
  },
  {
   "cell_type": "markdown",
   "metadata": {},
   "source": [
    "You will need two things: connection and cursor\n",
    "\n",
    "One connection can have multiple cursors\n",
    "\n",
    "The try ... except will help us possible errors if the connection fails"
   ]
  },
  {
   "cell_type": "code",
   "execution_count": 5,
   "metadata": {},
   "outputs": [
    {
     "name": "stdout",
     "output_type": "stream",
     "text": [
      "connected to the database\n"
     ]
    }
   ],
   "source": [
    "try:\n",
    "    # Connect to an existing database\n",
    "    connection = psycopg2.connect(user=username,\n",
    "                                  password=password,\n",
    "                                  host=host,\n",
    "                                  port=port,\n",
    "                                  database=database)\n",
    "\n",
    "    # Create a cursor to perform database operations\n",
    "    cursor = connection.cursor()\n",
    "    print(\"connected to the database\")\n",
    "\n",
    "except (Exception, Error) as error:\n",
    "    print(\"Error while connecting to PostgreSQL\", error)"
   ]
  },
  {
   "cell_type": "markdown",
   "metadata": {},
   "source": [
    "We can ask cursor to run some queries for us.\n",
    "\n",
    "The following example will not change anything on the DB.\n",
    "\n",
    "We just read data. If you need to update the data, you also need to commit.\n",
    "\n",
    "We will talk about that later."
   ]
  },
  {
   "cell_type": "code",
   "execution_count": 8,
   "metadata": {},
   "outputs": [
    {
     "name": "stdout",
     "output_type": "stream",
     "text": [
      "Here are the first 5 rows [(524, 1, 'Jared', 'Ely', 'jared.ely@sakilacustomer.org', 530, True, datetime.date(2006, 2, 14), datetime.datetime(2013, 5, 26, 14, 49, 45, 738000), 1), (1, 1, 'Mary', 'Smith', 'mary.smith@sakilacustomer.org', 5, True, datetime.date(2006, 2, 14), datetime.datetime(2013, 5, 26, 14, 49, 45, 738000), 1), (2, 1, 'Patricia', 'Johnson', 'patricia.johnson@sakilacustomer.org', 6, True, datetime.date(2006, 2, 14), datetime.datetime(2013, 5, 26, 14, 49, 45, 738000), 1), (3, 1, 'Linda', 'Williams', 'linda.williams@sakilacustomer.org', 7, True, datetime.date(2006, 2, 14), datetime.datetime(2013, 5, 26, 14, 49, 45, 738000), 1), (4, 2, 'Barbara', 'Jones', 'barbara.jones@sakilacustomer.org', 8, True, datetime.date(2006, 2, 14), datetime.datetime(2013, 5, 26, 14, 49, 45, 738000), 1)]\n"
     ]
    }
   ],
   "source": [
    "sql_string=\"select * from customer;\"\n",
    "try:\n",
    "    # Executing a SQL query\n",
    "    # cursor.execute(\"SELECT version();\")\n",
    "    # cursor.execute(\"SELECT * from customer;\")\n",
    "    cursor.execute(sql_string)\n",
    "    # Fetch result\n",
    "    # record = cursor.fetchone()\n",
    "    # print(\"You are connected to - \", record, \"\\n\")\n",
    "    record = cursor.fetchall()\n",
    "    print(\"Here are the first 5 rows\", record[:5])\n",
    "except (Exception, Error) as error:\n",
    "    print(\"Errors while executes the code: \", error)"
   ]
  },
  {
   "cell_type": "markdown",
   "metadata": {},
   "source": [
    "After you get the data, you should close the connection:"
   ]
  },
  {
   "cell_type": "code",
   "execution_count": 9,
   "metadata": {},
   "outputs": [
    {
     "name": "stdout",
     "output_type": "stream",
     "text": [
      "PostgreSQL connection is closed.\n"
     ]
    }
   ],
   "source": [
    "cursor.close()\n",
    "connection.close()\n",
    "print(\"PostgreSQL connection is closed.\")"
   ]
  },
  {
   "cell_type": "code",
   "execution_count": null,
   "metadata": {},
   "outputs": [],
   "source": []
  }
 ],
 "metadata": {
  "kernelspec": {
   "display_name": "Python 3",
   "language": "python",
   "name": "python3"
  },
  "language_info": {
   "codemirror_mode": {
    "name": "ipython",
    "version": 3
   },
   "file_extension": ".py",
   "mimetype": "text/x-python",
   "name": "python",
   "nbconvert_exporter": "python",
   "pygments_lexer": "ipython3",
   "version": "3.8.10"
  }
 },
 "nbformat": 4,
 "nbformat_minor": 4
}
